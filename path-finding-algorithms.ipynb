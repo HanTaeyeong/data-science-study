{
 "cells": [
  {
   "cell_type": "code",
   "execution_count": 6,
   "id": "b867dfae",
   "metadata": {
    "scrolled": false
   },
   "outputs": [
    {
     "name": "stdout",
     "output_type": "stream",
     "text": [
      "[2, 8]\n",
      "[0, 4]\n"
     ]
    },
    {
     "data": {
      "text/plain": [
       "[[0, 0, 1, 0, 9, 0, 0, 0, 1, 0],\n",
       " [1, 0, 0, 0, 0, 0, 0, 0, 0, 1],\n",
       " [0, 0, 1, 0, 1, 0, 0, 0, 7, 0],\n",
       " [0, 0, 1, 0, 1, 0, 0, 0, 0, 0],\n",
       " [0, 0, 0, 0, 0, 0, 0, 0, 0, 0],\n",
       " [0, 0, 0, 0, 1, 1, 0, 0, 0, 0],\n",
       " [1, 0, 0, 0, 0, 0, 0, 0, 0, 1],\n",
       " [0, 1, 0, 0, 0, 0, 0, 0, 1, 0],\n",
       " [0, 0, 0, 0, 1, 0, 0, 0, 0, 0],\n",
       " [0, 0, 0, 0, 0, 0, 1, 0, 0, 1]]"
      ]
     },
     "execution_count": 6,
     "metadata": {},
     "output_type": "execute_result"
    }
   ],
   "source": [
    "import random;\n",
    "\n",
    "class Maze:    \n",
    "    def __init__(self, n=10, prob=0.2):\n",
    "        self.__n=n;\n",
    "        self.prob=prob;\n",
    "        self.create_grid();\n",
    "        \n",
    "    def create_grid(self):\n",
    "        self.grid=[]\n",
    "        n=self.__n\n",
    "        for i in range(self.__n):\n",
    "            grid_row=[]\n",
    "            for j in range(self.__n):\n",
    "                grid_row.append(int(random.random()<self.prob));\n",
    "            self.grid.append(grid_row)\n",
    "        self.start_pos=self.get_random_position();\n",
    "        self.finish_pos=self.get_random_position();\n",
    "        \n",
    "    def get_random_position(self):\n",
    "        n=self.__n;\n",
    "        x=random.random()*n;\n",
    "        y=random.random()*n;\n",
    "        return [int(x),int(y)]\n",
    "    \n",
    "    def get_grid(self):\n",
    "        return self.grid;\n",
    "    def get_grid_size(self):\n",
    "        return self.__n;\n",
    "    \n",
    "maze=Maze();\n",
    "grid=maze.get_grid();\n",
    "\n",
    "n=maze.get_grid_size()\n",
    "visited=[[0 for i in range(n)]]*n\n",
    "startX, startY = maze.start_pos[0], maze.start_pos[1]\n",
    "finishX, finishY=maze.finish_pos[0], maze.finish_pos[1]\n",
    "print(maze.start_pos)\n",
    "print(maze.finish_pos)\n",
    "grid[startX][startY]=7;\n",
    "grid[finishX][finishY]=9;\n",
    "grid\n"
   ]
  },
  {
   "cell_type": "code",
   "execution_count": 35,
   "id": "a172a2c4",
   "metadata": {
    "scrolled": true
   },
   "outputs": [
    {
     "name": "stdout",
     "output_type": "stream",
     "text": [
      "99999\n",
      "1\n"
     ]
    }
   ],
   "source": [
    "#dfs\n",
    "\n",
    "class Node:\n",
    "    \n",
    "    def __init__(x,y,val):\n",
    "        this.connected=Node\n",
    "\n",
    "\n",
    "\n",
    "def dfs(graph, start_node):\n",
    "    need_visited, visited = list(), list()\n",
    "    need_visited.append(start_node)\n",
    "    \n",
    "    while need_visited:\n",
    " \n",
    "        node = need_visited.pop()\n",
    "        \n",
    "        if node not in visited:\n",
    " \n",
    "            visited.append(node)\n",
    " \n",
    "            need_visited.extend(graph[node])\n",
    "            \n",
    "    return visited\n",
    "dfs(grid, startX,startY)\n",
    "\n",
    "\n"
   ]
  },
  {
   "cell_type": "code",
   "execution_count": null,
   "id": "af37a949",
   "metadata": {},
   "outputs": [],
   "source": [
    "from queue import PriorityQueue\n",
    "#q.put();\n",
    "#q.get();         \n"
   ]
  }
 ],
 "metadata": {
  "kernelspec": {
   "display_name": "Python 3",
   "language": "python",
   "name": "python3"
  },
  "language_info": {
   "codemirror_mode": {
    "name": "ipython",
    "version": 3
   },
   "file_extension": ".py",
   "mimetype": "text/x-python",
   "name": "python",
   "nbconvert_exporter": "python",
   "pygments_lexer": "ipython3",
   "version": "3.8.8"
  }
 },
 "nbformat": 4,
 "nbformat_minor": 5
}
