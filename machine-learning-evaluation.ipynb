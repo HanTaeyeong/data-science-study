{
 "cells": [
  {
   "cell_type": "code",
   "execution_count": 5,
   "id": "c7499298",
   "metadata": {},
   "outputs": [],
   "source": [
    "\n",
    "from sklearn.model_selection import train_test_split\n",
    "from sklearn.metrics import accuracy_score\n",
    "from sklearn.preprocessing import LabelEncoder\n",
    "\n",
    "## Null 처리 함수\n",
    "def fillna(df):\n",
    "    df['Age'].fillna(df['Age'].mean(), inplace=True)\n",
    "    df['Cabin'].fillna('N', inplace=True)\n",
    "    df['Embarked'].fillna('N', inplace=True)\n",
    "    df['Fare'].fillna(0, inplace=True)\n",
    "    return df\n",
    "\n",
    "## 머신러닝에 불필요한 피처 제거\n",
    "def drop_features(df):\n",
    "    df.drop(['PassengerId', 'Name', 'Ticket'], axis=1, inplace=True)\n",
    "    return df\n",
    "\n",
    "## Label Encoding 수행\n",
    "def format_features(df):\n",
    "    df['Cabin'] = df['Cabin'].str[:1]\n",
    "    features = ['Cabin', 'Sex', 'Embarked']\n",
    "    for feature in features:\n",
    "        le = LabelEncoder()\n",
    "        le.fit(df[feature])\n",
    "        df[feature] = le.transform(df[feature])\n",
    "    return df\n",
    "\n",
    "## 앞에서 실행한 Data Preprocessing 함수 호출\n",
    "def transform_features(df):\n",
    "    df = fillna(df)\n",
    "    df = drop_features(df)\n",
    "    df = format_features(df)\n",
    "    return df"
   ]
  },
  {
   "cell_type": "code",
   "execution_count": 7,
   "id": "1c5bad12",
   "metadata": {},
   "outputs": [
    {
     "name": "stdout",
     "output_type": "stream",
     "text": [
      "0.7877094972067039\n"
     ]
    }
   ],
   "source": [
    "from sklearn.base import BaseEstimator\n",
    "import pandas as pd\n",
    "from sklearn.model_selection import train_test_split\n",
    "from sklearn.metrics import accuracy_score\n",
    "import numpy as np;\n",
    "\n",
    "\n",
    "\n",
    "class MyDummyClassifier(BaseEstimator):\n",
    "    def fit(self, X, y=None):\n",
    "        pass\n",
    "    def predict(self, X):\n",
    "        pred = np.zeros((X.shape[0],1))\n",
    "        for i in range(X.shape[0]):\n",
    "            if X['Sex'].iloc[i]==1:\n",
    "                pred[i]=0\n",
    "            else:\n",
    "                pred[i]=1\n",
    "        return pred;\n",
    "\n",
    "titanic_df = pd.read_csv('./titanic/train.csv')\n",
    "y_titanic_df=titanic_df['Survived']\n",
    "X_titanic_df = titanic_df.drop('Survived', axis=1)\n",
    "X_titanic_df = transform_features(X_titanic_df)\n",
    "X_train, X_test, y_train, y_test = train_test_split(X_titanic_df, y_titanic_df,\n",
    "                                                    test_size=0.2, random_state=0)\n",
    "myclf = MyDummyClassifier();\n",
    "myclf.fit(X_train, y_train)\n",
    "\n",
    "mypredictions = myclf.predict(X_test)\n",
    "print(accuracy_score(y_test, mypredictions))"
   ]
  },
  {
   "cell_type": "code",
   "execution_count": 10,
   "id": "b1f32a08",
   "metadata": {},
   "outputs": [
    {
     "name": "stdout",
     "output_type": "stream",
     "text": [
      "\n"
     ]
    }
   ],
   "source": [
    "from sklearn.datasets import load_digits\n",
    "from sklearn.model_selection import train_test_split\n",
    "from sklearn.base import BaseEstimator\n",
    "from sklearn.metrics import accuracy_score\n",
    "import numpy as np\n",
    "import pandas as pd\n",
    "\n",
    "class MyFakeClassifier(BaseEstimator):\n",
    "    def fit(self,X,y):\n",
    "        pass\n",
    "    def predict(self, X):\n",
    "        return np.zeros((len(X),1),dtype=bool)\n",
    "    \n",
    "digits=load_digits()\n",
    "\n",
    "y=(digits.target==7).astype(int)\n",
    "X_train, X_test, y_train, y_test=train_test_split(digits.data, y, random_state=11)\n"
   ]
  },
  {
   "cell_type": "code",
   "execution_count": 14,
   "id": "934f8efb",
   "metadata": {},
   "outputs": [
    {
     "name": "stdout",
     "output_type": "stream",
     "text": [
      "0    405\n",
      "1     45\n",
      "dtype: int64\n",
      "0.9\n"
     ]
    }
   ],
   "source": [
    "print(pd.Series(y_test).value_counts())\n",
    "\n",
    "fakeclf = MyFakeClassifier();\n",
    "fakeclf.fit(X_train, y_train)\n",
    "\n",
    "fakepred =fakeclf.predict(X_test)\n",
    "\n",
    "print(accuracy_score(y_test, fakepred))\n"
   ]
  },
  {
   "cell_type": "code",
   "execution_count": 46,
   "id": "6d7e6459",
   "metadata": {
    "scrolled": true
   },
   "outputs": [
    {
     "name": "stdout",
     "output_type": "stream",
     "text": [
      "confusion matrix\n",
      "[[104  14]\n",
      " [ 13  48]]\n",
      "accuracy:0.8491620111731844, precision:0.7741935483870968, recall:0.7868852459016393\n",
      "f1: 0.7804878048780488\n"
     ]
    },
    {
     "name": "stderr",
     "output_type": "stream",
     "text": [
      "/opt/anaconda3/lib/python3.8/site-packages/sklearn/linear_model/_logistic.py:763: ConvergenceWarning: lbfgs failed to converge (status=1):\n",
      "STOP: TOTAL NO. of ITERATIONS REACHED LIMIT.\n",
      "\n",
      "Increase the number of iterations (max_iter) or scale the data as shown in:\n",
      "    https://scikit-learn.org/stable/modules/preprocessing.html\n",
      "Please also refer to the documentation for alternative solver options:\n",
      "    https://scikit-learn.org/stable/modules/linear_model.html#logistic-regression\n",
      "  n_iter_i = _check_optimize_result(\n"
     ]
    },
    {
     "data": {
      "text/plain": [
       "(0.7741935483870968, 0.7868852459016393)"
      ]
     },
     "execution_count": 46,
     "metadata": {},
     "output_type": "execute_result"
    }
   ],
   "source": [
    "from sklearn.metrics import accuracy_score, precision_score, recall_score, recall_score, confusion_matrix\n",
    "import pandas as pd\n",
    "from sklearn.model_selection import train_test_split\n",
    "from sklearn.linear_model import LogisticRegression\n",
    "from sklearn.metrics import f1_score\n",
    "\n",
    "def get_clf_eval(y_test, pred):\n",
    "    confusion=confusion_matrix(y_test, pred)\n",
    "    accuracy=accuracy_score(y_test,pred)\n",
    "    precision=precision_score(y_test,pred)\n",
    "    recall=recall_score(y_test,pred)\n",
    "    f1=f1_score(y_test,pred)\n",
    "    \n",
    "    print('confusion matrix')\n",
    "    print(confusion)\n",
    "    print(f'accuracy:{accuracy}, precision:{precision}, recall:{recall}')\n",
    "    print(f'f1: {f1}')\n",
    "    return precision,recall;\n",
    "    \n",
    "titanic_df=pd.read_csv('./titanic/train.csv')\n",
    "y_titanic_df = titanic_df['Survived']\n",
    "X_titanic_df = titanic_df.drop('Survived',axis=1)\n",
    "X_titanic_df = transform_features(X_titanic_df)\n",
    "\n",
    "X_train, X_test, y_train, y_test = train_test_split(X_titanic_df, y_titanic_df,\n",
    "                                                   test_size=0.2, random_state = 11)\n",
    "\n",
    "lr_clf = LogisticRegression();\n",
    "\n",
    "lr_clf.fit(X_train, y_train)\n",
    "pred=lr_clf.predict(X_test)\n",
    "get_clf_eval(y_test,pred)\n",
    "\n",
    "\n",
    "\n",
    "\n"
   ]
  },
  {
   "cell_type": "code",
   "execution_count": 47,
   "id": "b1e3e223",
   "metadata": {},
   "outputs": [],
   "source": [
    "pred_proba = lr_clf.predict_proba(X_test)\n",
    "pred = lr_clf.predict(X_test)\n",
    "pred_proba_result=np.concatenate([pred_proba, pred.reshape(-1,1)], axis=1)\n",
    "\n",
    "from sklearn.preprocessing import Binarizer\n",
    "\n",
    "pred_proba_1 = pred_proba[:,1].reshape(-1,1)\n",
    "precisions=[]\n",
    "recalls=[]\n",
    "def get_result(threshold):\n",
    "    binarizer = Binarizer(threshold=threshold)\n",
    "    custom_predict=binarizer.transform(pred_proba_1)\n",
    "    precision, recall = get_clf_eval(y_test, custom_predict)\n",
    "    precisions.append(precision)\n",
    "    recalls.append(recall)\n",
    "    return;\n"
   ]
  },
  {
   "cell_type": "code",
   "execution_count": 48,
   "id": "0f7929e8",
   "metadata": {
    "scrolled": true
   },
   "outputs": [
    {
     "name": "stdout",
     "output_type": "stream",
     "text": [
      "[0.2, 0.233, 0.266, 0.299, 0.332, 0.365, 0.398, 0.431, 0.464, 0.497, 0.53, 0.563, 0.596, 0.629, 0.662, 0.695, 0.728, 0.761, 0.794, 0.827]\n",
      "confusion matrix\n",
      "[[75 43]\n",
      " [ 6 55]]\n",
      "accuracy:0.7262569832402235, precision:0.5612244897959183, recall:0.9016393442622951\n",
      "f1: 0.6918238993710693\n",
      "confusion matrix\n",
      "[[78 40]\n",
      " [ 6 55]]\n",
      "accuracy:0.7430167597765364, precision:0.5789473684210527, recall:0.9016393442622951\n",
      "f1: 0.7051282051282052\n",
      "confusion matrix\n",
      "[[85 33]\n",
      " [ 6 55]]\n",
      "accuracy:0.7821229050279329, precision:0.625, recall:0.9016393442622951\n",
      "f1: 0.738255033557047\n",
      "confusion matrix\n",
      "[[89 29]\n",
      " [ 6 55]]\n",
      "accuracy:0.8044692737430168, precision:0.6547619047619048, recall:0.9016393442622951\n",
      "f1: 0.7586206896551725\n",
      "confusion matrix\n",
      "[[94 24]\n",
      " [ 7 54]]\n",
      "accuracy:0.8268156424581006, precision:0.6923076923076923, recall:0.8852459016393442\n",
      "f1: 0.7769784172661871\n",
      "confusion matrix\n",
      "[[96 22]\n",
      " [ 9 52]]\n",
      "accuracy:0.8268156424581006, precision:0.7027027027027027, recall:0.8524590163934426\n",
      "f1: 0.7703703703703704\n",
      "confusion matrix\n",
      "[[98 20]\n",
      " [ 9 52]]\n",
      "accuracy:0.8379888268156425, precision:0.7222222222222222, recall:0.8524590163934426\n",
      "f1: 0.7819548872180451\n",
      "confusion matrix\n",
      "[[100  18]\n",
      " [ 11  50]]\n",
      "accuracy:0.8379888268156425, precision:0.7352941176470589, recall:0.819672131147541\n",
      "f1: 0.7751937984496124\n",
      "confusion matrix\n",
      "[[103  15]\n",
      " [ 13  48]]\n",
      "accuracy:0.8435754189944135, precision:0.7619047619047619, recall:0.7868852459016393\n",
      "f1: 0.7741935483870968\n",
      "confusion matrix\n",
      "[[104  14]\n",
      " [ 13  48]]\n",
      "accuracy:0.8491620111731844, precision:0.7741935483870968, recall:0.7868852459016393\n",
      "f1: 0.7804878048780488\n",
      "confusion matrix\n",
      "[[108  10]\n",
      " [ 13  48]]\n",
      "accuracy:0.8715083798882681, precision:0.8275862068965517, recall:0.7868852459016393\n",
      "f1: 0.8067226890756303\n",
      "confusion matrix\n",
      "[[109   9]\n",
      " [ 15  46]]\n",
      "accuracy:0.8659217877094972, precision:0.8363636363636363, recall:0.7540983606557377\n",
      "f1: 0.793103448275862\n",
      "confusion matrix\n",
      "[[112   6]\n",
      " [ 16  45]]\n",
      "accuracy:0.8770949720670391, precision:0.8823529411764706, recall:0.7377049180327869\n",
      "f1: 0.8035714285714285\n",
      "confusion matrix\n",
      "[[113   5]\n",
      " [ 17  44]]\n",
      "accuracy:0.8770949720670391, precision:0.8979591836734694, recall:0.7213114754098361\n",
      "f1: 0.8\n",
      "confusion matrix\n",
      "[[116   2]\n",
      " [ 23  38]]\n",
      "accuracy:0.8603351955307262, precision:0.95, recall:0.6229508196721312\n",
      "f1: 0.7524752475247525\n",
      "confusion matrix\n",
      "[[116   2]\n",
      " [ 28  33]]\n",
      "accuracy:0.8324022346368715, precision:0.9428571428571428, recall:0.5409836065573771\n",
      "f1: 0.6875\n",
      "confusion matrix\n",
      "[[116   2]\n",
      " [ 30  31]]\n",
      "accuracy:0.8212290502793296, precision:0.9393939393939394, recall:0.5081967213114754\n",
      "f1: 0.6595744680851064\n",
      "confusion matrix\n",
      "[[117   1]\n",
      " [ 32  29]]\n",
      "accuracy:0.8156424581005587, precision:0.9666666666666667, recall:0.47540983606557374\n",
      "f1: 0.6373626373626373\n",
      "confusion matrix\n",
      "[[117   1]\n",
      " [ 35  26]]\n",
      "accuracy:0.7988826815642458, precision:0.9629629629629629, recall:0.4262295081967213\n",
      "f1: 0.5909090909090909\n",
      "confusion matrix\n",
      "[[117   1]\n",
      " [ 40  21]]\n",
      "accuracy:0.770949720670391, precision:0.9545454545454546, recall:0.3442622950819672\n",
      "f1: 0.5060240963855422\n"
     ]
    }
   ],
   "source": [
    "thresholds=[round(0.2+i*0.033,3) for i in range(20)]\n",
    "\n",
    "print(thresholds)\n",
    "\n",
    "for thresh in thresholds:\n",
    "    get_result(thresh)\n"
   ]
  },
  {
   "cell_type": "code",
   "execution_count": 44,
   "id": "08ede8eb",
   "metadata": {},
   "outputs": [
    {
     "name": "stdout",
     "output_type": "stream",
     "text": [
      "score:0.7804878048780488\n"
     ]
    }
   ],
   "source": [
    "from sklearn.metrics import f1_score\n",
    "f1 = f1_score(y_test, pred)\n",
    "print(f'score:{f1}')\n"
   ]
  },
  {
   "cell_type": "code",
   "execution_count": 53,
   "id": "3aafbf9d",
   "metadata": {},
   "outputs": [
    {
     "name": "stdout",
     "output_type": "stream",
     "text": [
      "0.9024034454015005\n"
     ]
    },
    {
     "data": {
      "image/png": "[encoded data removed]",
      "text/plain": [
       "<Figure size 432x288 with 1 Axes>"
      ]
     },
     "metadata": {
      "needs_background": "light"
     },
     "output_type": "display_data"
    }
   ],
   "source": [
    "from sklearn.metrics import roc_curve, roc_auc_score\n",
    "import matplotlib.pyplot as plt\n",
    "\n",
    "pred_proba_class1=lr_clf.predict_proba(X_test)[:, 1]\n",
    "\n",
    "fprs, tprs, thresholds = roc_curve(y_test, pred_proba_class1)\n",
    "thr_index =np.arange(1, thresholds.shape[0], 5)\n",
    "\n",
    "plt.plot(fprs, tprs, label='ROC')\n",
    "plt.plot([0,1],[0,1], 'k--', label='Random')\n",
    "\n",
    "start, end = plt.xlim()\n",
    "plt.xticks(np.round(np.arange(start, end, 0.1),2))\n",
    "plt.xlim(0,1); plt.ylim(0,1)\n",
    "plt.legend()\n",
    "\n",
    "pred_proba =lr_clf.predict_proba(X_test)[:,1]\n",
    "roc_score = roc_auc_score(y_test, pred_proba)\n",
    "print(roc_score)\n"
   ]
  }
 ],
 "metadata": {
  "kernelspec": {
   "display_name": "Python 3",
   "language": "python",
   "name": "python3"
  },
  "language_info": {
   "codemirror_mode": {
    "name": "ipython",
    "version": 3
   },
   "file_extension": ".py",
   "mimetype": "text/x-python",
   "name": "python",
   "nbconvert_exporter": "python",
   "pygments_lexer": "ipython3",
   "version": "3.8.8"
  }
 },
 "nbformat": 4,
 "nbformat_minor": 5
}
