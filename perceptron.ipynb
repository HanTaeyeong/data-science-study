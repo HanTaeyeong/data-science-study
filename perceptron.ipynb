{
 "cells": [
  {
   "cell_type": "code",
   "execution_count": 3,
   "id": "895d70e9",
   "metadata": {},
   "outputs": [
    {
     "data": {
      "text/plain": [
       "0"
      ]
     },
     "execution_count": 3,
     "metadata": {},
     "output_type": "execute_result"
    }
   ],
   "source": [
    "\n",
    "def AND(x1,x2):\n",
    "    w1,w2,theta = 0.5,0.5, 0.7\n",
    "    temp = x1*w1 + x2*w2\n",
    "    return int(temp>theta)\n",
    "\n",
    "def AND(x1,x2):\n",
    "    x=np.array([x1,x2])\n",
    "    w=np.array([0.5,0.5])\n",
    "    b=-0.7\n",
    "    temp=np.sum(w*x)+b\n",
    "    return int(temp>0);\n",
    "def NAND(x1,x2):\n",
    "    x=np.array([x1,x2])\n",
    "    w=np.array([-0.5,-0.5])\n",
    "    b=0.7\n",
    "    temp=np.sum(w*x)+b\n",
    "    return int(temp>0)\n",
    "def OR(x1,x2):\n",
    "    x=np.array([x1,x2])\n",
    "    w=np.array([0.5,0.5])\n",
    "    b=-0.2\n",
    "    temp=np.sum(w*x)+b\n",
    "    return int(temp>0)\n",
    "    \n"
   ]
  },
  {
   "cell_type": "code",
   "execution_count": 36,
   "id": "649cf7f2",
   "metadata": {
    "scrolled": false
   },
   "outputs": [
    {
     "data": {
      "image/png": "[encoded data removed]",
      "text/plain": [
       "<Figure size 432x288 with 1 Axes>"
      ]
     },
     "metadata": {
      "needs_background": "light"
     },
     "output_type": "display_data"
    }
   ],
   "source": [
    "import numpy as np;\n",
    "import matplotlib.pylab as plt\n",
    "\n",
    "def step_function(x):\n",
    "    return (x>0).astype(np.int64)\n",
    "def sigmoid(x):\n",
    "    return 1/(1+np.exp(-x))\n",
    "def relu(x):\n",
    "    return np.maximum(0,x)\n",
    "\n",
    "def soft_max(a):\n",
    "    c=np.max(a)\n",
    "    ea=np.exp(a-c)\n",
    "    sum_a=np.sum(ea)\n",
    "    return ea/sum_a\n",
    "\n",
    "x=np.array([i/10 for i in range(-50,50)])\n",
    "y=soft_max(x)\n",
    "plt.plot(x,y)\n",
    "plt.ylim(-0.1,1.1)\n",
    "plt.show()\n"
   ]
  },
  {
   "cell_type": "code",
   "execution_count": 45,
   "id": "4b964a26",
   "metadata": {},
   "outputs": [],
   "source": [
    "def sum_squares_error(y,t):\n",
    "    return 0.5 * np.sum((y-t)**2)\n",
    "\n",
    "# def cross_entropy_error(y,t):\n",
    "#     delta=1e-7\n",
    "#     return -np.sum(t*np.log(y+delta))\n",
    "\n",
    "# def cross_entropy_error_mini(y,t):\n",
    "#     if y.ndim ==1:\n",
    "#         t=t.reshape(1,t.size)\n",
    "#         y=y.reshape(1,y.size)\n",
    "#     batch_size=y.shape[0]\n",
    "#     return -np.sum(t*np.log(y+1e-7))/batch_size\n",
    "def cross_entropy(y,t):\n",
    "    if y.ndim==1:\n",
    "        t=t.reshape(1,t.size)\n",
    "        y=y.reshape(1,y.size)\n",
    "    batch_size=y.shape[0]\n",
    "    return -np.sum(np.log(y[np.arange(batch_size),t] + 1e-7))/batch_size\n",
    "def differential(f,x):\n",
    "    h=1e-4\n",
    "    return(f(x+h)-f(x-h))/(2*h)\n",
    "\n",
    "def gradient(f, x):\n",
    "    \n",
    "    h = 1e-4  # 0.0001\n",
    "    grad = np.zeros_like(x)\n",
    "\n",
    "    it = np.nditer(x, flags=['multi_index'], op_flags=['readwrite'])\n",
    "    while not it.finished:\n",
    "        idx = it.multi_index\n",
    "        tmp_val = x[idx]\n",
    "        x[idx] = float(tmp_val) + h\n",
    "        fxh1 = f(x)  # f(x+h)\n",
    "\n",
    "        x[idx] = tmp_val - h\n",
    "        fxh2 = f(x)  # f(x-h)\n",
    "        grad[idx] = (fxh1 - fxh2) / (2*h)\n",
    "\n",
    "        x[idx] = tmp_val  # 값 복원\n",
    "        it.iternext()\n",
    "\n",
    "    return grad\n",
    "\n",
    "def gradient_descent(f, init_x, lr=0.01, step_num=100):\n",
    "    x =init_x\n",
    "    \n",
    "    for i in range(step_num):\n",
    "        grad=gradient(f,x)\n",
    "        x-=lr*grad;\n",
    "    return x;\n"
   ]
  },
  {
   "cell_type": "code",
   "execution_count": 43,
   "id": "f061487a",
   "metadata": {
    "scrolled": false
   },
   "outputs": [
    {
     "name": "stdout",
     "output_type": "stream",
     "text": [
      "[[-1.23682187  0.60081823  1.07674866]\n",
      " [-1.3378215   1.20990301  1.30186218]]\n",
      "[-1.82245029  1.38932182  1.7100503 ]\n",
      "2\n"
     ]
    },
    {
     "data": {
      "text/plain": [
       "9.072870921456747"
      ]
     },
     "execution_count": 43,
     "metadata": {},
     "output_type": "execute_result"
    }
   ],
   "source": [
    "import os, os\n",
    "sys.path.append(os.pardir)\n",
    "class simpleNet:\n",
    "    def __init__(self):\n",
    "        self.W=np.random.randn(2,3)\n",
    "    def predict(self, x):\n",
    "        return np.dot(x, self.W)\n",
    "    def loss(self,x,t):\n",
    "        z=self.predict(x)\n",
    "        y=soft_max(z)\n",
    "        loss = cross_entropy(y,t)\n",
    "        return loss\n",
    "net = simpleNet();\n",
    "print(net.W)\n",
    "x=np.array([0.5, 0.9])\n",
    "p = net.predict(x)\n",
    "print(p)\n",
    "print(np.argmax(p))\n",
    "t=np.array([0,0,1])\n",
    "net.loss(x,t)"
   ]
  },
  {
   "cell_type": "code",
   "execution_count": 47,
   "id": "e78ffde9",
   "metadata": {},
   "outputs": [
    {
     "data": {
      "text/plain": [
       "array([[-0.97500761,  0.12023815,  0.85476946],\n",
       "       [-1.7550137 ,  0.21642867,  1.53858503]])"
      ]
     },
     "execution_count": 47,
     "metadata": {},
     "output_type": "execute_result"
    }
   ],
   "source": [
    "net_loss=lambda w: net.loss(x,t)\n",
    "\n",
    "dW = gradient(net_loss, net.W)\n",
    "\n",
    "\n",
    "\n",
    "\n",
    "\n"
   ]
  }
 ],
 "metadata": {
  "kernelspec": {
   "display_name": "Python 3",
   "language": "python",
   "name": "python3"
  },
  "language_info": {
   "codemirror_mode": {
    "name": "ipython",
    "version": 3
   },
   "file_extension": ".py",
   "mimetype": "text/x-python",
   "name": "python",
   "nbconvert_exporter": "python",
   "pygments_lexer": "ipython3",
   "version": "3.8.8"
  }
 },
 "nbformat": 4,
 "nbformat_minor": 5
}
