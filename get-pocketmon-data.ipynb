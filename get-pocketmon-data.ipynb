{
 "cells": [
  {
   "cell_type": "code",
   "execution_count": 1,
   "id": "ef5c8283-15a8-46a4-b170-28c34689266d",
   "metadata": {
    "tags": []
   },
   "outputs": [
    {
     "name": "stdout",
     "output_type": "stream",
     "text": [
      "<Bucket: data-storage-rex-project-324703>\n"
     ]
    },
    {
     "ename": "NameError",
     "evalue": "name 'Blob' is not defined",
     "output_type": "error",
     "traceback": [
      "\u001b[0;31m---------------------------------------------------------------------------\u001b[0m",
      "\u001b[0;31mNameError\u001b[0m                                 Traceback (most recent call last)",
      "\u001b[0;32m<ipython-input-1-7a5ac3c7647e>\u001b[0m in \u001b[0;36m<module>\u001b[0;34m\u001b[0m\n\u001b[1;32m     20\u001b[0m \u001b[0mprint\u001b[0m\u001b[0;34m(\u001b[0m\u001b[0mbucket\u001b[0m\u001b[0;34m)\u001b[0m\u001b[0;34m\u001b[0m\u001b[0;34m\u001b[0m\u001b[0m\n\u001b[1;32m     21\u001b[0m \u001b[0;34m\u001b[0m\u001b[0m\n\u001b[0;32m---> 22\u001b[0;31m \u001b[0mblob\u001b[0m \u001b[0;34m=\u001b[0m \u001b[0mBlob\u001b[0m\u001b[0;34m(\u001b[0m\u001b[0minfo\u001b[0m\u001b[0;34m,\u001b[0m \u001b[0mbucket_name\u001b[0m\u001b[0;34m)\u001b[0m\u001b[0;34m;\u001b[0m\u001b[0;34m\u001b[0m\u001b[0;34m\u001b[0m\u001b[0m\n\u001b[0m\u001b[1;32m     23\u001b[0m \u001b[0mblob\u001b[0m\u001b[0;34m.\u001b[0m\u001b[0mupload_from_filename\u001b[0m\u001b[0;34m(\u001b[0m\u001b[0;34m'test'\u001b[0m\u001b[0;34m)\u001b[0m\u001b[0;34m\u001b[0m\u001b[0;34m\u001b[0m\u001b[0m\n\u001b[1;32m     24\u001b[0m \u001b[0;34m\u001b[0m\u001b[0m\n",
      "\u001b[0;31mNameError\u001b[0m: name 'Blob' is not defined"
     ]
    }
   ],
   "source": [
    "\n",
    "import requests\n",
    "import sys\n",
    "import os\n",
    "import json\n",
    "from google.cloud import storage\n",
    "from google.oauth2 import service_account\n",
    "\n",
    "bucket_name = \"data-storage-rex-project-324703\"\n",
    "project_id=\"rex-project-324703\"\n",
    "prefix=\"https://pokeapi.co/api/v2/pokemon/\";\n",
    "\n",
    "# initialize\n",
    "with open('./rex-project-324703-6d700dce8527.json') as source:\n",
    "    info = json.load(source)\n",
    "    \n",
    "storage_credentials = service_account.Credentials.from_service_account_info(info)\n",
    "storage_client = storage.Client(project=project_id, credentials=storage_credentials)\n",
    "bucket = storage_client.get_bucket(bucket_name)\n",
    "#buckets = list(storage_client.list_buckets())\n",
    "print(bucket)\n",
    "\n",
    "blob = Blob(info, bucket_name);\n",
    "blob.upload_from_filename('test')\n",
    "\n",
    "\n",
    "\n",
    "\n",
    "\n",
    "\n"
   ]
  },
  {
   "cell_type": "code",
   "execution_count": 36,
   "id": "9aedf96c-3c7a-422e-a642-532b81c62ffa",
   "metadata": {},
   "outputs": [],
   "source": [
    "#!pip install --upgrade google-cloud-storage\n",
    "\n",
    "!export GOOGLE_APPLICATION_CREDENTIALS=\"/Users/hantaeyeong/Desktop/hty/data-science/rex-project-324703-912f0c66cf9f.json\"\n"
   ]
  },
  {
   "cell_type": "code",
   "execution_count": null,
   "id": "5d6b3805-bf0c-4b71-82a4-faa3a54fa9be",
   "metadata": {},
   "outputs": [],
   "source": []
  }
 ],
 "metadata": {
  "kernelspec": {
   "display_name": "Python 3",
   "language": "python",
   "name": "python3"
  },
  "language_info": {
   "codemirror_mode": {
    "name": "ipython",
    "version": 3
   },
   "file_extension": ".py",
   "mimetype": "text/x-python",
   "name": "python",
   "nbconvert_exporter": "python",
   "pygments_lexer": "ipython3",
   "version": "3.8.8"
  }
 },
 "nbformat": 4,
 "nbformat_minor": 5
}
